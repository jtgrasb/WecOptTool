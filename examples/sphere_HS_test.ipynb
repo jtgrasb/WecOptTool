{
 "cells": [
  {
   "cell_type": "code",
   "execution_count": 1,
   "metadata": {},
   "outputs": [],
   "source": [
    "import capytaine as cpy"
   ]
  },
  {
   "cell_type": "code",
   "execution_count": 7,
   "metadata": {},
   "outputs": [
    {
     "name": "stdout",
     "output_type": "stream",
     "text": [
      "<xarray.DataArray 'hydrostatic_stiffness' (influenced_dof: 1, radiating_dof: 1)> Size: 8B\n",
      "array([[-277400.26055885]])\n",
      "Coordinates:\n",
      "  * influenced_dof  (influenced_dof) <U5 20B 'Pitch'\n",
      "  * radiating_dof   (radiating_dof) <U5 20B 'Pitch'\n",
      "<xarray.DataArray 'hydrostatic_stiffness' (influenced_dof: 1, radiating_dof: 1)> Size: 8B\n",
      "array([[-350279.62243261]])\n",
      "Coordinates:\n",
      "  * influenced_dof  (influenced_dof) <U6 24B 'Pitch2'\n",
      "  * radiating_dof   (radiating_dof) <U6 24B 'Pitch2'\n"
     ]
    }
   ],
   "source": [
    "sphere_fb = cpy.FloatingBody(mesh=cpy.mesh_sphere(radius=5,center=(0, 0, 0)),center_of_mass=(0,0,0)).keep_immersed_part()\n",
    "sphere_fb.rotation_center = sphere_fb.center_of_mass\n",
    "sphere_fb.add_rotation_dof(name='Pitch')\n",
    "hs = sphere_fb.compute_hydrostatic_stiffness()\n",
    "print(hs)\n",
    "\n",
    "# New sphere with same rotation dof\n",
    "sphere_fb = cpy.FloatingBody(mesh=cpy.mesh_sphere(radius=5,center=(0, 0, 0)),center_of_mass=(0,0,0)).keep_immersed_part()\n",
    "sphere_fb.rotation_center = sphere_fb.center_of_mass\n",
    "axis = cpy.Axis(vector=(0, 1, 0), point=sphere_fb.center_of_mass)\n",
    "sphere_fb.add_rotation_dof(name='Pitch2',axis=axis)\n",
    "hs = sphere_fb.compute_hydrostatic_stiffness()\n",
    "print(hs)"
   ]
  }
 ],
 "metadata": {
  "kernelspec": {
   "display_name": "Python 3",
   "language": "python",
   "name": "python3"
  },
  "language_info": {
   "codemirror_mode": {
    "name": "ipython",
    "version": 3
   },
   "file_extension": ".py",
   "mimetype": "text/x-python",
   "name": "python",
   "nbconvert_exporter": "python",
   "pygments_lexer": "ipython3",
   "version": "3.11.9"
  }
 },
 "nbformat": 4,
 "nbformat_minor": 2
}
