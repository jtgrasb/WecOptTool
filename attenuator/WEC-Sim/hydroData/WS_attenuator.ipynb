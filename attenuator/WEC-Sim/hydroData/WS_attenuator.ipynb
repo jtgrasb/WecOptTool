{
 "cells": [
  {
   "cell_type": "markdown",
   "metadata": {},
   "source": [
    "# Create WecOptTool Model for the Marson WEC concept"
   ]
  },
  {
   "cell_type": "code",
   "execution_count": 95,
   "metadata": {},
   "outputs": [],
   "source": [
    "import logging\n",
    "import numpy as np\n",
    "import capytaine as cpt\n",
    "import pygmsh\n",
    "import gmsh\n",
    "import vtk\n",
    "import matplotlib.pyplot as plt\n",
    "import os\n",
    "import xarray as xr\n",
    "from capytaine.io.meshio import load_from_meshio\n",
    "\n",
    "logging.basicConfig(level=logging.INFO,format=\"%(levelnames)s:\\t%(message)s\")"
   ]
  },
  {
   "cell_type": "markdown",
   "metadata": {},
   "source": [
    "#### WEC geometry mesh\n",
    "Now we will create a surface mesh for the WEC hull and store it using the `FloatingBody` object from Capytaine."
   ]
  },
  {
   "cell_type": "code",
   "execution_count": 96,
   "metadata": {},
   "outputs": [
    {
     "name": "stdout",
     "output_type": "stream",
     "text": [
      "404\n",
      "226\n"
     ]
    }
   ],
   "source": [
    "numBodies = 2\n",
    "bodyDist = 2\n",
    "bodyLocs = [-0.5*bodyDist, -1.5*bodyDist] #, 3]\n",
    "mesh_size_factor = 0.2\n",
    "bodHeight = [1, 1]\n",
    "bodDraft = [0.5, 0.5]\n",
    "bodWidth = [1, 1]\n",
    "bodLength = [1, 1]\n",
    "\n",
    "hydrostaticsDict = {}\n",
    "rect = {}\n",
    "bodList = []\n",
    "\n",
    "nBod = 0\n",
    "with pygmsh.geo.Geometry() as geom:\n",
    "    poly1 = geom.add_polygon(\n",
    "        [[bodyLocs[nBod]-bodWidth[nBod]/2, bodLength[nBod]/2],\n",
    "        [bodyLocs[nBod]-bodWidth[nBod]/2,-bodLength[nBod]/2],\n",
    "        [bodyLocs[nBod]+bodWidth[nBod]/2,-bodLength[nBod]/2],\n",
    "        [bodyLocs[nBod]+bodWidth[nBod]/2,bodLength[nBod]/2]],mesh_size=mesh_size_factor)\n",
    "    \n",
    "    geom.translate(poly1, [0, 0, bodHeight[nBod]-bodDraft[nBod]])\n",
    "    geom.extrude(poly1,[0,0,-bodHeight[nBod]])\n",
    "    rectMesh1 = geom.generate_mesh()\n",
    "\n",
    "nBod = 1\n",
    "with pygmsh.geo.Geometry() as geom:\n",
    "    poly1 = geom.add_polygon(\n",
    "        [[bodyLocs[nBod]-bodWidth[nBod]/2, bodLength[nBod]/2],\n",
    "        [bodyLocs[nBod]-bodWidth[nBod]/2,-bodLength[nBod]/2],\n",
    "        [bodyLocs[nBod]+bodWidth[nBod]/2,-bodLength[nBod]/2],\n",
    "        [bodyLocs[nBod]+bodWidth[nBod]/2,bodLength[nBod]/2]],mesh_size=mesh_size_factor)\n",
    "    \n",
    "    geom.translate(poly1, [0, 0, bodHeight[nBod]-bodDraft[nBod]])\n",
    "    geom.extrude(poly1,[0,0,-bodHeight[nBod]])\n",
    "    rectMesh2 = geom.generate_mesh()\n",
    "\n",
    "meshObj1 = load_from_meshio(rectMesh1, 'Rect1')\n",
    "lidMesh1 = meshObj1.generate_lid(z=-.05)\n",
    "\n",
    "# define the floating body\n",
    "rect1 = cpt.FloatingBody(mesh=rectMesh1, lid_mesh = lidMesh1, name=\"rect_close\", center_of_mass=(bodyLocs[0], 0, 0))\n",
    "rect1.center_of_mass = (bodyLocs[0], 0, 0)\n",
    "rect1.rotation_center = rect1.center_of_mass\n",
    "#rect1.keep_immersed_part()\n",
    "rect1.add_all_rigid_body_dofs()\n",
    "\n",
    "meshObj2 = load_from_meshio(rectMesh2, 'Rect2')\n",
    "lidMesh2 = meshObj2.generate_lid(z=-.05)\n",
    "\n",
    "rect2 = cpt.FloatingBody(mesh=rectMesh2, lid_mesh = lidMesh2, name=\"rect_far\", center_of_mass=(bodyLocs[1], 0, 0))\n",
    "rect2.center_of_mass = (bodyLocs[1], 0, 0)\n",
    "rect2.rotation_center = rect2.center_of_mass\n",
    "#rect2.keep_immersed_part()\n",
    "print(rect2.mesh.nb_faces)\n",
    "rect2.add_all_rigid_body_dofs()\n",
    "\n",
    "both_fb = cpt.FloatingBody.join_bodies(rect1,rect2)\n",
    "both_fb.keep_immersed_part()\n",
    "\n",
    "myBodies = []\n",
    "myBodies.append(rect1)\n",
    "myBodies.append(rect2)\n",
    "print(rect2.mesh.nb_faces)"
   ]
  },
  {
   "cell_type": "code",
   "execution_count": 97,
   "metadata": {},
   "outputs": [],
   "source": [
    "folder_path = 'hs'\n",
    "\n",
    "if not os.path.exists(folder_path):\n",
    "    os.makedirs(folder_path)\n",
    "\n",
    "for i, body in enumerate(bodList):\n",
    "\n",
    "    cg = body.center_of_mass\n",
    "    body_hs = body.compute_hydrostatics(rho=1023.0)\n",
    "    vo = body_hs['disp_volume']\n",
    "    cb = body_hs['center_of_buoyancy']\n",
    "    khs = body_hs['hydrostatic_stiffness']\n",
    "\n",
    "    # Write hydrostatic stiffness to KH.dat file\n",
    "    khs_full = np.zeros((6,6))\n",
    "    khs_full[2:5, 2:5] += khs[2:5, 2:5]\n",
    "    tmp = folder_path + '/KH' + '_' + str(i) +'.dat'\n",
    "    np.savetxt(tmp, khs_full)\n",
    "\n",
    "    # Write the other hydrostatics data to Hydrostatics.dat file\n",
    "    tmp = folder_path + '/Hydrostatics' + '_' + str(i) + '.dat'\n",
    "    f = open(tmp,'w')\n",
    "    for j in [0,1,2]:\n",
    "        line =  f'XF = {cb[j]:7.3f} - XG = {cg[j]:7.3f} \\n'\n",
    "        f.write(line)\n",
    "    line = f'Displacement = {vo:E}'\n",
    "    f.write(line)\n",
    "    f.close()\n"
   ]
  },
  {
   "cell_type": "code",
   "execution_count": 98,
   "metadata": {},
   "outputs": [
    {
     "name": "stdout",
     "output_type": "stream",
     "text": [
      "['__abstractmethods__', '__add__', '__class__', '__delattr__', '__dict__', '__dir__', '__doc__', '__eq__', '__format__', '__ge__', '__getattribute__', '__getstate__', '__gt__', '__hash__', '__init__', '__init_subclass__', '__internals__', '__le__', '__lt__', '__module__', '__ne__', '__new__', '__reduce__', '__reduce_ex__', '__repr__', '__rich_repr__', '__setattr__', '__short_str__', '__sizeof__', '__slotnames__', '__slots__', '__str__', '__subclasshook__', '__weakref__', '_abc_impl', '_clipping_data', '_compute_triangles_quadrangles', '_face_on_plane', '_faces', '_ids', '_repr_pretty_', '_vertices', 'as_set_of_faces', 'axis_aligned_bbox', 'center_of_buoyancy', 'center_of_mass_of_nodes', 'clip', 'clipped', 'compute_quadrature', 'copy', 'diameter_of_nodes', 'disp_mass', 'extract_faces', 'extract_lid', 'extract_one_face', 'faces', 'faces_areas', 'faces_centers', 'faces_normals', 'faces_radiuses', 'flip_normals', 'from_set_of_faces', 'generate_lid', 'get_face', 'heal_mesh', 'heal_normals', 'heal_triangles', 'immersed_part', 'is_triangle', 'join_meshes', 'keep_immersed_part', 'lowest_lid_position', 'merge_duplicates', 'merged', 'mirror', 'mirrored', 'name', 'nb_faces', 'nb_quadrangles', 'nb_triangles', 'nb_vertices', 'path_to_leaf', 'quadrangles_ids', 'quadrature_method', 'quadrature_points', 'remove_degenerated_faces', 'remove_unused_vertices', 'rotate', 'rotate_around_center_to_align_vectors', 'rotate_x', 'rotate_y', 'rotate_z', 'rotated', 'rotated_around_center_to_align_vectors', 'rotated_x', 'rotated_y', 'rotated_z', 'show', 'show_matplotlib', 'show_vtk', 'sliced_by_plane', 'squared_axis_aligned_bbox', 'surface_integral', 'symmetrized', 'to_meshmagick', 'translate', 'translate_point_to_point', 'translate_x', 'translate_y', 'translate_z', 'translated', 'translated_point_to_point', 'translated_x', 'translated_y', 'translated_z', 'tree_view', 'triangles_ids', 'triangulate_quadrangles', 'vertices', 'volume', 'volumes', 'waterplane_area', 'waterplane_center', 'waterplane_integral', 'wet_surface_area', 'with_normal_vector_going_down']\n",
      "223\n",
      "226\n",
      "(404, 3)\n"
     ]
    }
   ],
   "source": [
    "print(dir(rect1.mesh))\n",
    "print(rect1.mesh.nb_faces)\n",
    "print(rect2.mesh.nb_faces)\n",
    "print(np.shape(rect2.dofs['Heave']))"
   ]
  },
  {
   "cell_type": "code",
   "execution_count": 99,
   "metadata": {},
   "outputs": [
    {
     "name": "stdout",
     "output_type": "stream",
     "text": [
      ".......\n",
      "FloatingBody(mesh=Mesh(..., name=\"mesh_from_meshio_500\"), lid_mesh=Mesh(..., name=\"lid for Rect1\"), dofs={\"Surge\": ..., \"Sway\": ..., \"Heave\": ..., \"Roll\": ..., \"Pitch\": ..., \"Yaw\": ...}, center_of_mass=(-1.0, 0, 0), name=\"rect_close\")\n",
      "223\n",
      "Surge\n",
      "(400, 3)\n",
      "0\n",
      "400\n",
      "Sway\n",
      "(400, 3)\n",
      "0\n",
      "400\n",
      "Heave\n",
      "(400, 3)\n",
      "0\n",
      "400\n",
      "Roll\n",
      "(400, 3)\n",
      "0\n",
      "400\n",
      "Pitch\n",
      "(400, 3)\n",
      "0\n",
      "400\n",
      "Yaw\n",
      "(400, 3)\n",
      "0\n",
      "400\n",
      ".......\n",
      "FloatingBody(mesh=Mesh(..., name=\"mesh_from_meshio_507\"), lid_mesh=Mesh(..., name=\"lid for Rect2\"), dofs={\"Surge\": ..., \"Sway\": ..., \"Heave\": ..., \"Roll\": ..., \"Pitch\": ..., \"Yaw\": ...}, center_of_mass=(-3.0, 0, 0), name=\"rect_far\")\n",
      "226\n",
      "Surge\n",
      "(404, 3)\n",
      "223\n",
      "627\n"
     ]
    },
    {
     "ename": "ValueError",
     "evalue": "could not broadcast input array from shape (404,3) into shape (226,3)",
     "output_type": "error",
     "traceback": [
      "\u001b[1;31m---------------------------------------------------------------------------\u001b[0m",
      "\u001b[1;31mValueError\u001b[0m                                Traceback (most recent call last)",
      "Cell \u001b[1;32mIn[99], line 21\u001b[0m\n\u001b[0;32m     19\u001b[0m \u001b[38;5;28mprint\u001b[39m(nbf)\n\u001b[0;32m     20\u001b[0m \u001b[38;5;28mprint\u001b[39m(nbf\u001b[38;5;241m+\u001b[39m\u001b[38;5;28mlen\u001b[39m(dof))\n\u001b[1;32m---> 21\u001b[0m new_dof[nbf:nbf\u001b[38;5;241m+\u001b[39m\u001b[38;5;28mlen\u001b[39m(dof), :] \u001b[38;5;241m=\u001b[39m dof\n\u001b[0;32m     22\u001b[0m \u001b[38;5;28;01mif\u001b[39;00m \u001b[38;5;124m'\u001b[39m\u001b[38;5;124m__\u001b[39m\u001b[38;5;124m'\u001b[39m \u001b[38;5;129;01mnot\u001b[39;00m \u001b[38;5;129;01min\u001b[39;00m name:\n\u001b[0;32m     23\u001b[0m     new_dof_name \u001b[38;5;241m=\u001b[39m \u001b[38;5;124m'\u001b[39m\u001b[38;5;124m__\u001b[39m\u001b[38;5;124m'\u001b[39m\u001b[38;5;241m.\u001b[39mjoin([body\u001b[38;5;241m.\u001b[39mname, name])\n",
      "\u001b[1;31mValueError\u001b[0m: could not broadcast input array from shape (404,3) into shape (226,3)"
     ]
    }
   ],
   "source": [
    "from itertools import chain, accumulate, zip_longest\n",
    "bodies = myBodies\n",
    "\n",
    "\"\"\"Combine the degrees of freedom of several bodies.\"\"\"\n",
    "dofs = {}\n",
    "cum_nb_faces = accumulate(chain([0], (body.mesh.nb_faces for body in bodies)))\n",
    "total_nb_faces = sum(body.mesh.nb_faces for body in bodies)\n",
    "for body, nbf in zip(bodies, cum_nb_faces):\n",
    "    # nbf is the cumulative number of faces of the previous subbodies,\n",
    "    # that is the offset of the indices of the faces of the current body.\n",
    "    print('.......')\n",
    "    print(body)\n",
    "    print(body.mesh.nb_faces)\n",
    "    for name, dof in body.dofs.items():\n",
    "        new_dof = np.zeros((total_nb_faces, 3))\n",
    "        print(name)\n",
    "        print(np.shape(dof))\n",
    "        \n",
    "        print(nbf)\n",
    "        print(nbf+len(dof))\n",
    "        new_dof[nbf:nbf+len(dof), :] = dof\n",
    "        if '__' not in name:\n",
    "            new_dof_name = '__'.join([body.name, name])\n",
    "        else:\n",
    "            # The body is probably a combination of bodies already.\n",
    "            # So for the associativity of the + operation,\n",
    "            # it is better to keep the same name.\n",
    "            new_dof_name = name\n",
    "        dofs[new_dof_name] = new_dof"
   ]
  },
  {
   "cell_type": "code",
   "execution_count": 100,
   "metadata": {},
   "outputs": [
    {
     "ename": "ValueError",
     "evalue": "could not broadcast input array from shape (404,3) into shape (226,3)",
     "output_type": "error",
     "traceback": [
      "\u001b[1;31m---------------------------------------------------------------------------\u001b[0m",
      "\u001b[1;31mValueError\u001b[0m                                Traceback (most recent call last)",
      "Cell \u001b[1;32mIn[100], line 8\u001b[0m\n\u001b[0;32m      6\u001b[0m \u001b[38;5;66;03m# combine all bodies to account for B2B interactions\u001b[39;00m\n\u001b[0;32m      7\u001b[0m combo \u001b[38;5;241m=\u001b[39m myBodies[\u001b[38;5;241m0\u001b[39m]\n\u001b[1;32m----> 8\u001b[0m combo \u001b[38;5;241m+\u001b[39m\u001b[38;5;241m=\u001b[39m myBodies[\u001b[38;5;241m1\u001b[39m]\n\u001b[0;32m     10\u001b[0m \u001b[38;5;66;03m#both_fb = cpt.FloatingBody.join_bodies(rect1,rect2)\u001b[39;00m\n\u001b[0;32m     12\u001b[0m freqs \u001b[38;5;241m=\u001b[39m np\u001b[38;5;241m.\u001b[39mlinspace(\u001b[38;5;241m1\u001b[39m\u001b[38;5;241m/\u001b[39m\u001b[38;5;241m8\u001b[39m, \u001b[38;5;241m10\u001b[39m\u001b[38;5;241m*\u001b[39m\u001b[38;5;241m1\u001b[39m\u001b[38;5;241m/\u001b[39m\u001b[38;5;241m8\u001b[39m, \u001b[38;5;241m10\u001b[39m)\n",
      "File \u001b[1;32mc:\\Users\\jtgrasb\\AppData\\Local\\anaconda3\\Lib\\site-packages\\capytaine\\bodies\\bodies.py:749\u001b[0m, in \u001b[0;36mFloatingBody.__add__\u001b[1;34m(self, body_to_add)\u001b[0m\n\u001b[0;32m    748\u001b[0m \u001b[38;5;28;01mdef\u001b[39;00m \u001b[38;5;21m__add__\u001b[39m(\u001b[38;5;28mself\u001b[39m, body_to_add: \u001b[38;5;124m'\u001b[39m\u001b[38;5;124mFloatingBody\u001b[39m\u001b[38;5;124m'\u001b[39m) \u001b[38;5;241m-\u001b[39m\u001b[38;5;241m>\u001b[39m \u001b[38;5;124m'\u001b[39m\u001b[38;5;124mFloatingBody\u001b[39m\u001b[38;5;124m'\u001b[39m:\n\u001b[1;32m--> 749\u001b[0m     \u001b[38;5;28;01mreturn\u001b[39;00m \u001b[38;5;28mself\u001b[39m\u001b[38;5;241m.\u001b[39mjoin_bodies(body_to_add)\n",
      "File \u001b[1;32mc:\\Users\\jtgrasb\\AppData\\Local\\anaconda3\\Lib\\site-packages\\capytaine\\bodies\\bodies.py:765\u001b[0m, in \u001b[0;36mFloatingBody.join_bodies\u001b[1;34m(name, *bodies)\u001b[0m\n\u001b[0;32m    760\u001b[0m \u001b[38;5;28;01melse\u001b[39;00m:\n\u001b[0;32m    761\u001b[0m     lid_meshes \u001b[38;5;241m=\u001b[39m CollectionOfMeshes(\n\u001b[0;32m    762\u001b[0m             [body\u001b[38;5;241m.\u001b[39mlid_mesh \u001b[38;5;28;01mfor\u001b[39;00m body \u001b[38;5;129;01min\u001b[39;00m bodies \u001b[38;5;28;01mif\u001b[39;00m body\u001b[38;5;241m.\u001b[39mlid_mesh \u001b[38;5;129;01mis\u001b[39;00m \u001b[38;5;129;01mnot\u001b[39;00m \u001b[38;5;28;01mNone\u001b[39;00m],\n\u001b[0;32m    763\u001b[0m             name\u001b[38;5;241m=\u001b[39m\u001b[38;5;124mf\u001b[39m\u001b[38;5;124m\"\u001b[39m\u001b[38;5;132;01m{\u001b[39;00mname\u001b[38;5;132;01m}\u001b[39;00m\u001b[38;5;124m_lid_mesh\u001b[39m\u001b[38;5;124m\"\u001b[39m\n\u001b[0;32m    764\u001b[0m             )\n\u001b[1;32m--> 765\u001b[0m dofs \u001b[38;5;241m=\u001b[39m FloatingBody\u001b[38;5;241m.\u001b[39mcombine_dofs(bodies)\n\u001b[0;32m    767\u001b[0m \u001b[38;5;28;01mif\u001b[39;00m \u001b[38;5;28mall\u001b[39m(body\u001b[38;5;241m.\u001b[39mmass \u001b[38;5;129;01mis\u001b[39;00m \u001b[38;5;129;01mnot\u001b[39;00m \u001b[38;5;28;01mNone\u001b[39;00m \u001b[38;5;28;01mfor\u001b[39;00m body \u001b[38;5;129;01min\u001b[39;00m bodies):\n\u001b[0;32m    768\u001b[0m     new_mass \u001b[38;5;241m=\u001b[39m \u001b[38;5;28msum\u001b[39m(body\u001b[38;5;241m.\u001b[39mmass \u001b[38;5;28;01mfor\u001b[39;00m body \u001b[38;5;129;01min\u001b[39;00m bodies)\n",
      "File \u001b[1;32mc:\\Users\\jtgrasb\\AppData\\Local\\anaconda3\\Lib\\site-packages\\capytaine\\bodies\\bodies.py:803\u001b[0m, in \u001b[0;36mFloatingBody.combine_dofs\u001b[1;34m(bodies)\u001b[0m\n\u001b[0;32m    801\u001b[0m \u001b[38;5;28;01mfor\u001b[39;00m name, dof \u001b[38;5;129;01min\u001b[39;00m body\u001b[38;5;241m.\u001b[39mdofs\u001b[38;5;241m.\u001b[39mitems():\n\u001b[0;32m    802\u001b[0m     new_dof \u001b[38;5;241m=\u001b[39m np\u001b[38;5;241m.\u001b[39mzeros((total_nb_faces, \u001b[38;5;241m3\u001b[39m))\n\u001b[1;32m--> 803\u001b[0m     new_dof[nbf:nbf\u001b[38;5;241m+\u001b[39m\u001b[38;5;28mlen\u001b[39m(dof), :] \u001b[38;5;241m=\u001b[39m dof\n\u001b[0;32m    804\u001b[0m     \u001b[38;5;28;01mif\u001b[39;00m \u001b[38;5;124m'\u001b[39m\u001b[38;5;124m__\u001b[39m\u001b[38;5;124m'\u001b[39m \u001b[38;5;129;01mnot\u001b[39;00m \u001b[38;5;129;01min\u001b[39;00m name:\n\u001b[0;32m    805\u001b[0m         new_dof_name \u001b[38;5;241m=\u001b[39m \u001b[38;5;124m'\u001b[39m\u001b[38;5;124m__\u001b[39m\u001b[38;5;124m'\u001b[39m\u001b[38;5;241m.\u001b[39mjoin([body\u001b[38;5;241m.\u001b[39mname, name])\n",
      "\u001b[1;31mValueError\u001b[0m: could not broadcast input array from shape (404,3) into shape (226,3)"
     ]
    }
   ],
   "source": [
    "ncFName = 'attenuator.nc'\n",
    "\n",
    "path,tmp = os.path.split(os.getcwd() + os.path.sep + ncFName)\n",
    "path += os.path.sep\n",
    "\n",
    "# combine all bodies to account for B2B interactions\n",
    "combo = myBodies[0]\n",
    "combo += myBodies[1]\n",
    "\n",
    "#both_fb = cpt.FloatingBody.join_bodies(rect1,rect2)\n",
    "\n",
    "freqs = np.linspace(1/8, 10*1/8, 10)\n",
    "\n",
    "# set frequencies\n",
    "wCapy =  2*np.pi*freqs                  # wave frequencies\n",
    "headings = np.linspace(0,np.pi/2,1)  \n",
    "depth = np.infty\n",
    "density = 1025.0\n",
    "\n",
    "# call Capytaine solver\n",
    "print(f'\\n-------------------------------\\n'\n",
    "    f'Calling Capytaine BEM solver...\\n'\n",
    "    f'-------------------------------\\n'\n",
    "    f'mesh = {both_fb.name}\\n'\n",
    "    f'w range = {wCapy[0]:.3f} - {wCapy[-1]:.3f} rad/s\\n'\n",
    "    f'dw = {(wCapy[1]-wCapy[0]):.3f} rad/s\\n'\n",
    "    f'no of headings = {len(headings)}\\n'\n",
    "    f'no of radiation & diffraction problems = {len(wCapy)*(len(headings) + len(combo.dofs))}\\n'\n",
    "    f'-------------------------------\\n')\n",
    "\n",
    "problems = xr.Dataset(coords={\n",
    "    'omega': wCapy,\n",
    "    'wave_direction': headings,\n",
    "    'radiating_dof': list(combo.dofs),\n",
    "    'water_depth': [depth],\n",
    "    'rho': [density],\n",
    "    })\n",
    "\n",
    "solver = cpt.BEMSolver()\n",
    "capyData = solver.fill_dataset(problems, [combo], hydrostatics=False)\n",
    "\n",
    "# save to .nc file\n",
    "cpt.io.xarray.separate_complex_values(capyData).to_netcdf(ncFName, encoding={'radiating_dof': {'dtype': 'U'}, 'influenced_dof': {'dtype': 'U'}})\n",
    "print('\\nCapytaine call complete. Data saved to \\n' + ncFName +'\\n\\n')"
   ]
  }
 ],
 "metadata": {
  "kernelspec": {
   "display_name": "base",
   "language": "python",
   "name": "python3"
  },
  "language_info": {
   "codemirror_mode": {
    "name": "ipython",
    "version": 3
   },
   "file_extension": ".py",
   "mimetype": "text/x-python",
   "name": "python",
   "nbconvert_exporter": "python",
   "pygments_lexer": "ipython3",
   "version": "3.11.13"
  }
 },
 "nbformat": 4,
 "nbformat_minor": 2
}
